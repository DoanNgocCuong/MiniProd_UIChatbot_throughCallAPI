{
 "cells": [
  {
   "cell_type": "markdown",
   "metadata": {},
   "source": [
    "# UIChatbot_throughCallAPI\n",
    "\n",
    "### 1. HOW TO RUN\n",
    "Khi build UI, bạn ấn: pip install streamlit => Auto được đề xuất tạo .env (cùng với auto cài requirements.txt)\n",
    "```bash\n",
    ".venv\\Scripts\\activate\n",
    "```\n",
    "### PROMPTING AND TUNING PROMPTING: \n",
    "\n",
    "- Update từ QA Assistant lên chatbot với khả năng ghi nhớ hội thoại\n",
    "Từ API hỏi gì đáp nấy của con bot RAG . Muốn build code thành con chatbot có khả năng ghi nhớ hội thoại thì sao nhỉ?\n",
    "\n",
    "QA Assistant: \n",
    "```\n",
    "        \"prompt\": [\n",
    "            {\n",
    "                \"role\": \"system\",\n",
    "                \"content\": \"You are an intelligent assistant. Please answer the question based on content of knowledge base. When all knowledge base content is irrelevant to the question, your answer must include the sentence 'The answer you are looking for is not found in the knowledge base!'. Answers need to consider chat history. Knowledge base content is as following:\\n{{REFERENCE}}\"\n",
    "            },\n",
    "            {\n",
    "                \"role\": \"user\",\n",
    "                \"content\": \"The question is: '{{TEXT}}'.\\nAnswer only the question and do not output any other words.\"\n",
    "            }\n",
    "        ],\n",
    "\n",
    "```\n",
    "\n",
    "Chatbot thân thiện: (Sự khác biệt giữa bạn bot trả lời thẳng thắn \"Answer only the question and do not output any other words với bạn bot thân thiện\")\n",
    "```\n",
    "        \"prompt\": [\n",
    "            {\n",
    "                \"role\": \"system\",\n",
    "                \"content\": \"You are a friendly and helpful assistant for CSKH-StepUpEducation. Your responses should be natural, engaging, and conversational. Use the knowledge base content to inform your answers, but present the information in a smooth, chatbot-like manner. If the knowledge base doesn't contain relevant information, politely inform the user. Here's the knowledge base content:\\n{{REFERENCE}}\"\n",
    "            },\n",
    "        ] + [{\"role\": msg[\"role\"], \"content\": msg[\"content\"]} for msg in st.session_state.messages[-5:]] + [\n",
    "            {\n",
    "                \"role\": \"user\",\n",
    "                \"content\": f\"The user asks: '{prompt}'. Please provide a friendly, conversational response that addresses their question while considering the chat history above.\"\n",
    "            }\n",
    "        ],\n",
    "\n",
    "```"
   ]
  }
 ],
 "metadata": {
  "language_info": {
   "name": "python"
  }
 },
 "nbformat": 4,
 "nbformat_minor": 2
}
